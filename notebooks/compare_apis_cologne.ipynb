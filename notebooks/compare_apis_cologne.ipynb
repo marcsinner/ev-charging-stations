{
 "cells": [
  {
   "cell_type": "code",
   "execution_count": 1,
   "metadata": {},
   "outputs": [],
   "source": [
    "from ipywidgets import HTML\n",
    "import ipysheet\n",
    "from ipyleaflet import Map, Marker, Popup,Icon\n",
    "from credentials import uri\n",
    "import pymongo\n",
    "import pandas as pd   \n",
    "import ipywidgets as widgets\n",
    "\n",
    "red_icon_url = \"http://maps.google.com/mapfiles/kml/pushpin/red-pushpin.png\"\n",
    "green_icon_url =\"http://maps.google.com/mapfiles/kml/pushpin/grn-pushpin.png\"\n",
    "blue_icon_url = \"http://maps.google.com/mapfiles/kml/pushpin/blue-pushpin.png\""
   ]
  },
  {
   "cell_type": "code",
   "execution_count": 2,
   "metadata": {},
   "outputs": [],
   "source": [
    "def init_db():\n",
    "    client = pymongo.MongoClient(uri)\n",
    "    DB_NAME = \"test-db\"\n",
    "    db = client[DB_NAME]\n",
    "    return db"
   ]
  },
  {
   "cell_type": "code",
   "execution_count": 3,
   "metadata": {},
   "outputs": [],
   "source": [
    "def getData():\n",
    "    db = init_db()\n",
    "    collection = db.plugsurfing_cologne\n",
    "    data = collection.find({})\n",
    "    data = list(data)\n",
    "    df1 = pd.DataFrame(data)   \n",
    "\n",
    "    collection = db.plugshare_cologne\n",
    "    data = collection.find({})\n",
    "    data = list(data)\n",
    "    df2 = pd.DataFrame(data)   \n",
    "\n",
    "    collection = db.placetoplug_cologne\n",
    "    data = collection.find({})\n",
    "    data = list(data)\n",
    "    df3 = pd.DataFrame(data)   \n",
    "    return df1, df2, df3\n"
   ]
  },
  {
   "cell_type": "code",
   "execution_count": 4,
   "metadata": {},
   "outputs": [],
   "source": [
    "from ipysheet import from_array\n",
    "\n",
    "def display_data(map):\n",
    "    df1,df2,df3 = getData()\n",
    "    offset = 0.0001\n",
    "\n",
    "    #plugsurfing\n",
    "    for _, row in df1.iterrows():\n",
    "        icon = Icon(icon_url=blue_icon_url, icon_size=[35, 35],draggable=False)\n",
    "        marker = Marker(location=(row.latitude, row.longitude), icon= icon)\n",
    "        #marker.popup(ipysheet.from_dataframe(row.to_frame()))\n",
    "        sheet = HTML()\n",
    "        sheet.value = row.to_string()\n",
    "        marker.popup = sheet\n",
    "        map.add_layer(marker)\n",
    "\n",
    "    #plugshare\n",
    "    for _, row in df2.iterrows():\n",
    "        icon = Icon(icon_url=green_icon_url, icon_size=[35, 35],draggable=False)\n",
    "        marker = Marker(location=(row.latitude +offset, row.longitude +offset), icon= icon)\n",
    "        #data = row.to_numpy()\n",
    "        #print(data)\n",
    "        #print(type(data))\n",
    "        #sheet = from_array(data)\n",
    "        sheet = HTML()\n",
    "        sheet.value = row.to_string()\n",
    "        marker.popup = sheet\n",
    "        map.add_layer(marker)\n",
    "\n",
    "    #place to plug\n",
    "    for _, row in df3.iterrows():\n",
    "        icon = Icon(icon_url=red_icon_url, icon_size=[35, 35],draggable=False)\n",
    "        marker = Marker(location=(row.coordinates[1] - offset, row.coordinates[0] - offset), icon= icon)\n",
    "        #marker.popup(ipysheet.from_dataframe(row.to_frame()))\n",
    "        sheet = HTML()\n",
    "        sheet.value = row.to_string()\n",
    "        marker.popup = sheet\n",
    "        map.add_layer(marker)\n",
    "    return map"
   ]
  },
  {
   "cell_type": "code",
   "execution_count": 5,
   "metadata": {},
   "outputs": [],
   "source": [
    "def createMap():\n",
    "    center = (50.94151,6.955385)\n",
    "    m = Map(center=center, zoom=12, close_popup_on_click=True)\n",
    "    display_data(m)\n",
    "    return m\n"
   ]
  },
  {
   "cell_type": "code",
   "execution_count": 7,
   "metadata": {},
   "outputs": [
    {
     "data": {
      "application/vnd.jupyter.widget-view+json": {
       "model_id": "1194c961197c4eaeac49d89f2b35d53a",
       "version_major": 2,
       "version_minor": 0
      },
      "text/plain": [
       "Map(center=[50.94151, 6.955385], controls=(ZoomControl(options=['position', 'zoom_in_text', 'zoom_in_title', '…"
      ]
     },
     "metadata": {},
     "output_type": "display_data"
    }
   ],
   "source": [
    "# green - plugshare (closed API)\n",
    "# blue - plugsurfing (opensoruce 2017)\n",
    "# red - placetoplug (limit auf 50)\n",
    "m = createMap()\n",
    "m"
   ]
  },
  {
   "cell_type": "code",
   "execution_count": null,
   "metadata": {},
   "outputs": [],
   "source": []
  }
 ],
 "metadata": {
  "interpreter": {
   "hash": "3cc3d9d1efbda5f185ddd71a096e0deab175a8543e9f5cef7822ac3582ece48a"
  },
  "kernelspec": {
   "display_name": "Python 3.10.2 64-bit",
   "language": "python",
   "name": "python3"
  },
  "language_info": {
   "codemirror_mode": {
    "name": "ipython",
    "version": 3
   },
   "file_extension": ".py",
   "mimetype": "text/x-python",
   "name": "python",
   "nbconvert_exporter": "python",
   "pygments_lexer": "ipython3",
   "version": "3.10.2"
  },
  "orig_nbformat": 4
 },
 "nbformat": 4,
 "nbformat_minor": 2
}
