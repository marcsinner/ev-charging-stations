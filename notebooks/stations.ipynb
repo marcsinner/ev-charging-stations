{
 "cells": [
  {
   "cell_type": "code",
   "execution_count": 51,
   "id": "5f8e5235",
   "metadata": {},
   "outputs": [],
   "source": [
    "import plotly_express as px\n",
    "import pandas as pd\n",
    "import requests\n",
    "import mysql.connector\n",
    "import math\n",
    "from geopy.geocoders import Nominatim\n",
    "geolocator = Nominatim(user_agent=\"emobilityapp2\")\n",
    "from datetime import datetime"
   ]
  },
  {
   "cell_type": "code",
   "execution_count": 2,
   "id": "d0a15f67",
   "metadata": {},
   "outputs": [],
   "source": [
    "mydb = mysql.connector.connect(\n",
    "  host=\"localhost\",\n",
    "  user=\"root\",\n",
    "  password=\"password\",\n",
    "  database=\"ladestationen\"\n",
    ")\n",
    "mycursor = mydb.cursor()"
   ]
  },
  {
   "cell_type": "code",
   "execution_count": 3,
   "id": "83d864ee",
   "metadata": {},
   "outputs": [
    {
     "name": "stdout",
     "output_type": "stream",
     "text": [
      "{\"lowUsage\":{\"sessionsAverage\":0,\"stationsAverage\":0},\"highUsage\":{\"sessionsAverage\":0,\"stationsAverage\":0}}\n"
     ]
    }
   ],
   "source": [
    "users=requests.get(\"https://api.plugsurfing.com/mfund/users\")\n",
    "\n",
    "print(users.text)"
   ]
  },
  {
   "cell_type": "code",
   "execution_count": 4,
   "id": "63e756c3",
   "metadata": {},
   "outputs": [],
   "source": [
    "def insert_stations(val):\n",
    "    try:\n",
    "        mySql_insert_query = \"INSERT INTO stations (id, latitude, longitude, utilization, provider) VALUES \"+str(val)\n",
    "        mycursor.execute(mySql_insert_query)\n",
    "        mydb.commit()\n",
    "        print(mycursor.rowcount, \"station inserted.\")\n",
    "    except mysql.connector.Error as error:\n",
    "        print(\"Failed to insert into MySQL table {}\".format(error))"
   ]
  },
  {
   "cell_type": "code",
   "execution_count": 5,
   "id": "0f5f3339",
   "metadata": {},
   "outputs": [],
   "source": [
    "def insert_connectors(conns,stationid):\n",
    "    for con in conns:\n",
    "        try:\n",
    "            id=con['id']\n",
    "            speed=con['speed']\n",
    "            powerType=con['powerType']\n",
    "            val=(id,speed,powerType,stationid)\n",
    "            mySql_insert_query = \"INSERT INTO connectors (id, speed, powerType, stationid) VALUES \"+str(val)\n",
    "            mycursor.execute(mySql_insert_query)\n",
    "            mydb.commit()\n",
    "            print(mycursor.rowcount, \"connector inserted.\")\n",
    "        except mysql.connector.Error as error:\n",
    "            print(\"Failed to insert into MySQL table {}\".format(error))"
   ]
  },
  {
   "cell_type": "code",
   "execution_count": null,
   "id": "0713a0d9",
   "metadata": {},
   "outputs": [],
   "source": [
    "def load_all():\n",
    "    r=requests.get(\"https://api.plugsurfing.com/mfund/stations?page=1&limit=1\")\n",
    "    pages=math.ceil(int(r.headers['X-Total-Count'])/100)\n",
    "    for page in range(1,pages+1):\n",
    "        r=requests.get(\"https://api.plugsurfing.com/mfund/stations?page=\"+str(page)+\"&limit=100\")\n",
    "        for i in range(len(r.json())):\n",
    "            print(\"page: \"+ str(page)+ \" i= \"+str(i))\n",
    "            id=r.json()[i]['id']\n",
    "            latitude=r.json()[i]['latitude']\n",
    "            longitude=r.json()[i]['longitude']\n",
    "            utilization=r.json()[i]['utilization']\n",
    "            insert_address(latitude,longitude)\n",
    "            provider=''\n",
    "            val=(id, latitude, longitude, utilization, provider)\n",
    "            insert_stations(val)\n",
    "            conns=r.json()[i]['connectors']\n",
    "            print(\"Länge von cons :\" + str(len(conns)))\n",
    "            insert_connectors(conns,id)"
   ]
  },
  {
   "cell_type": "code",
   "execution_count": 6,
   "id": "c57ad473",
   "metadata": {},
   "outputs": [],
   "source": [
    "def get_ad_data(ad,str):\n",
    "    if ad.get(str)==None:\n",
    "        return None\n",
    "    else:\n",
    "        return ad.get(str)"
   ]
  },
  {
   "cell_type": "code",
   "execution_count": 7,
   "id": "f1867ab9",
   "metadata": {},
   "outputs": [],
   "source": [
    "def insert_address(latitude,longitude):\n",
    "    try:\n",
    "        location = geolocator.reverse(str(latitude)+\",\"+str(longitude))\n",
    "        if location==None:\n",
    "            return\n",
    "        ad=location.raw['address']\n",
    "        street=get_ad_data(ad,'road')\n",
    "        if street != None:\n",
    "            street=street.replace(\"'\", \"''\")\n",
    "            street=street[:30]\n",
    "        house_number=get_ad_data(ad,'house_number')\n",
    "        postcode=get_ad_data(ad,'postcode')\n",
    "        state=get_ad_data(ad,'state')\n",
    "        if location.raw['address'].get('city')!=None:\n",
    "            city=ad.get('city')\n",
    "        elif location.raw['address'].get('town')!=None:\n",
    "            city=ad.get('town')\n",
    "        elif location.raw['address'].get('village')!=None:\n",
    "            city=ad.get('village')\n",
    "        else:\n",
    "            city=get_ad_data(ad,'county')\n",
    "        val=(latitude,longitude,street,house_number,postcode,city,state)\n",
    "        print(val)\n",
    "        mySql_insert_query = \"INSERT INTO address (latitude, longitude, street, house_number, postcode, city, state) VALUES ({},{},{},{},{},{},{})\".format(val[0],val[1],\"'\"+str(val[2])+\"'\" if val[2] else \"NULL\",\"'\"+str(val[3])+\"'\" if val[3] else \"NULL\",\"'\"+str(val[4])+\"'\" if val[4] else \"NULL\",\"'\"+str(val[5])+\"'\" if val[5] else \"NULL\",\"'\"+str(val[6])+\"'\" if val[6] else \"NULL\")\n",
    "        mycursor.execute(mySql_insert_query)\n",
    "        mydb.commit()\n",
    "        print(mycursor.rowcount, \" address inserted.\")\n",
    "    except mysql.connector.Error as error:\n",
    "        print(\"Failed to insert into MySQL table {}\".format(error))"
   ]
  },
  {
   "cell_type": "code",
   "execution_count": 8,
   "id": "3e044045",
   "metadata": {},
   "outputs": [],
   "source": [
    "def sel_place(kind,place):\n",
    "    mycursor.execute(\"SELECT s.id, s.latitude,s.longitude FROM stations as s, address as a where s.latitude=a.latitude and s.longitude=a.longitude and {}='{}'\".format(kind,place))\n",
    "    myresult = mycursor.fetchall()\n",
    "    df=pd.DataFrame(data=myresult,columns=['id','lat','lon'])\n",
    "    print(\"There are \"+ str(len(myresult)) + \" stations in \"+ place +\".\")\n",
    "    fig=px.scatter_mapbox(df, lat='lat', lon='lon', hover_name='id', zoom=10)\n",
    "    fig.update_layout(mapbox_style=\"open-street-map\")\n",
    "    fig.update_layout(margin={\"r\":0,\"t\":0,\"l\":0,\"b\":0})\n",
    "    fig.show()\n",
    "    "
   ]
  },
  {
   "cell_type": "code",
   "execution_count": 22,
   "id": "62320fd5",
   "metadata": {},
   "outputs": [],
   "source": [
    "def sel_place_w_conn(kind,place):\n",
    "    mycursor.execute(\"SELECT s.id, s.latitude,s.longitude, count(c.id) FROM stations as s, address as a, connectors as c where c.stationid=s.id and s.latitude=a.latitude and s.longitude=a.longitude and {}='{}' group by s.id \".format(kind,place))\n",
    "    myresult = mycursor.fetchall()\n",
    "    df=pd.DataFrame(data=myresult,columns=['id','lat','lon','number_of_connectors'])\n",
    "    print(\"There are \"+ str(len(myresult)) + \" stations in \"+ place +\".\")\n",
    "    fig=px.scatter_mapbox(df, lat='lat', lon='lon', size='number_of_connectors', zoom=10)\n",
    "    fig.update_layout(mapbox_style=\"open-street-map\")\n",
    "    fig.update_layout(margin={\"r\":0,\"t\":0,\"l\":0,\"b\":0})\n",
    "    fig.show()\n",
    "    "
   ]
  },
  {
   "cell_type": "code",
   "execution_count": null,
   "id": "a1ca7e1e",
   "metadata": {},
   "outputs": [],
   "source": [
    "sel_place_w_conn('city','Berlin')"
   ]
  },
  {
   "cell_type": "code",
   "execution_count": 94,
   "id": "d3675741",
   "metadata": {},
   "outputs": [],
   "source": [
    "def run():\n",
    "    print('Press 1 to show total amount.\\nPress 2 to show stations at location.\\nPress 3 to show stations at location with number of connectors.\\nPress 4 to show usage.\\nPress 5 to check for new staions.')\n",
    "    inp=int(input())\n",
    "    if inp==1:\n",
    "        r=requests.get(\"https://api.plugsurfing.com/mfund/stations?page=1&limit=1\")\n",
    "        print(r.headers['X-Total-Count'])\n",
    "    if inp==2:\n",
    "        print('what kind of location?')\n",
    "        kind=input()\n",
    "        print('what location?')\n",
    "        place=input()\n",
    "        sel_place(kind,place)\n",
    "    if inp==3:\n",
    "        print('what kind of location?')\n",
    "        kind=input()\n",
    "        print('what location?')\n",
    "        place=input()\n",
    "        sel_place_w_conn(kind,place)\n",
    "    if inp==4:\n",
    "        r=requests.get(\"https://api.plugsurfing.com/mfund/users\")\n",
    "        now = datetime.now()\n",
    "        date = now.strftime('%Y-%m-%d %H:%M:%S')\n",
    "        val=(date,r.json()['lowUsage']['sessionsAverage'],r.json()['lowUsage']['stationsAverage'])\n",
    "        print('Average session duration: '+ str(r.json()['lowUsage']['sessionsAverage']))\n",
    "        print('Average stations usage: '+ str(r.json()['lowUsage']['stationsAverage']))\n",
    "        mycursor.execute(\"INSERT INTO users (date,sessions,stations) VALUES ('{}',{},{})\".format(date,val[1],val[2]))\n",
    "        mydb.commit()\n",
    "        print('----------')\n",
    "        print('Recorded data:')\n",
    "        mycursor.execute(\"SELECT * FROM users\")\n",
    "        myresult = mycursor.fetchall()\n",
    "        for d in myresult:\n",
    "            print(d)\n",
    "    if inp==5:\n",
    "        r=requests.get(\"https://api.plugsurfing.com/mfund/stations?page=1&limit=1\")\n",
    "        n=r.headers['X-Total-Count']\n",
    "        mycursor.execute(\"SELECT * FROM stations\")\n",
    "        myresult = mycursor.fetchall()\n",
    "        \n",
    "        if len(myresult)==int(n):\n",
    "            print('no new data')\n",
    "        else:\n",
    "            load_all()"
   ]
  },
  {
   "cell_type": "code",
   "execution_count": 108,
   "id": "f2dbfcd8",
   "metadata": {},
   "outputs": [
    {
     "name": "stdout",
     "output_type": "stream",
     "text": [
      "Press 1 to show total amount.\n",
      "Press 2 to show stations at location.\n",
      "Press 3 to show stations at location with number of connectors.\n",
      "Press 4 to show usage.\n",
      "Press 5 to check for new staions.\n",
      "5\n",
      "no new data\n"
     ]
    }
   ],
   "source": [
    "run()"
   ]
  },
  {
   "cell_type": "code",
   "execution_count": null,
   "id": "8fe288f2",
   "metadata": {},
   "outputs": [],
   "source": []
  },
  {
   "cell_type": "code",
   "execution_count": null,
   "id": "c075db7c",
   "metadata": {},
   "outputs": [],
   "source": []
  },
  {
   "cell_type": "code",
   "execution_count": null,
   "id": "6abd3529",
   "metadata": {},
   "outputs": [],
   "source": []
  },
  {
   "cell_type": "code",
   "execution_count": null,
   "id": "bfd68378",
   "metadata": {},
   "outputs": [],
   "source": []
  },
  {
   "cell_type": "code",
   "execution_count": null,
   "id": "c2467dcd",
   "metadata": {},
   "outputs": [],
   "source": []
  },
  {
   "cell_type": "code",
   "execution_count": null,
   "id": "0186729e",
   "metadata": {},
   "outputs": [],
   "source": []
  }
 ],
 "metadata": {
  "kernelspec": {
   "display_name": "Python 3",
   "language": "python",
   "name": "python3"
  },
  "language_info": {
   "codemirror_mode": {
    "name": "ipython",
    "version": 3
   },
   "file_extension": ".py",
   "mimetype": "text/x-python",
   "name": "python",
   "nbconvert_exporter": "python",
   "pygments_lexer": "ipython3",
   "version": "3.8.10"
  }
 },
 "nbformat": 4,
 "nbformat_minor": 5
}
