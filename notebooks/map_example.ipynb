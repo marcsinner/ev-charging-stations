{
 "cells": [
  {
   "cell_type": "code",
   "execution_count": 2,
   "metadata": {},
   "outputs": [],
   "source": [
    "from ipywidgets import HTML\n",
    "import ipysheet\n",
    "from ipyleaflet import Map, Marker, Popup\n",
    "from credentials import uri\n",
    "import pymongo\n",
    "import pandas as pd   \n",
    "import ipywidgets as widgets"
   ]
  },
  {
   "cell_type": "code",
   "execution_count": 4,
   "metadata": {},
   "outputs": [],
   "source": [
    "def init_db():\n",
    "    client = pymongo.MongoClient(uri)\n",
    "    DB_NAME = \"test-db\"\n",
    "    db = client[DB_NAME]\n",
    "    return db"
   ]
  },
  {
   "cell_type": "code",
   "execution_count": 5,
   "metadata": {},
   "outputs": [],
   "source": [
    "def getData():\n",
    "    db = init_db()\n",
    "    collection = db.plugsurfing\n",
    "    data = collection.find({})\n",
    "    data = list(data)\n",
    "    df = pd.DataFrame(data)   \n",
    "    return df\n"
   ]
  },
  {
   "cell_type": "code",
   "execution_count": 6,
   "metadata": {},
   "outputs": [],
   "source": [
    "def display_data(map):\n",
    "    df = getData()\n",
    "    for index, row in df.iterrows():\n",
    "        marker = Marker(location=(row.latitude, row.longitude))\n",
    "        #marker.popup(ipysheet.from_dataframe(row.to_frame()))\n",
    "        map.add_layer(marker)\n",
    "    return map"
   ]
  },
  {
   "cell_type": "code",
   "execution_count": 7,
   "metadata": {},
   "outputs": [],
   "source": [
    "def createMap():\n",
    "    center = (51.34195, 14.22162)\n",
    "    m = Map(center=center, zoom=5, close_popup_on_click=True)\n",
    "    display_data(m)\n",
    "    return m\n"
   ]
  },
  {
   "cell_type": "code",
   "execution_count": 9,
   "metadata": {},
   "outputs": [
    {
     "data": {
      "application/vnd.jupyter.widget-view+json": {
       "model_id": "246cebd417e5424589e70a36e04dcde8",
       "version_major": 2,
       "version_minor": 0
      },
      "text/plain": [
       "Map(center=[51.34195, 14.22162], controls=(ZoomControl(options=['position', 'zoom_in_text', 'zoom_in_title', '…"
      ]
     },
     "metadata": {},
     "output_type": "display_data"
    }
   ],
   "source": [
    "m = createMap()\n",
    "m"
   ]
  },
  {
   "cell_type": "code",
   "execution_count": 17,
   "metadata": {},
   "outputs": [
    {
     "name": "stdout",
     "output_type": "stream",
     "text": [
      "Sheet(cells=(Cell(column_end=1, column_start=0, numeric_format='0[.]0', row_end=0, row_start=0, squeeze_column=False, squeeze_row=False, type='numeric', value=array([[1, 3]], dtype=int64)),), columns=2, layout=Layout(height='auto', width='auto'), rows=1)\n"
     ]
    },
    {
     "data": {
      "application/vnd.jupyter.widget-view+json": {
       "model_id": "e3446afd2fe14e52bf8deac4b1d3bab7",
       "version_major": 2,
       "version_minor": 0
      },
      "text/plain": [
       "Map(center=[52.204793, 360.121558], controls=(ZoomControl(options=['position', 'zoom_in_text', 'zoom_in_title'…"
      ]
     },
     "metadata": {},
     "output_type": "display_data"
    }
   ],
   "source": [
    "import numpy as np\n",
    "from ipysheet import from_array, to_array\n",
    "\n",
    "center = (52.204793, 360.121558)\n",
    "\n",
    "m = Map(center=center, zoom=15)\n",
    "\n",
    "d = {'col1': [1, 2], 'col2': [3, 4]}\n",
    "df = pd.DataFrame(data=d)\n",
    "\n",
    "df = df.iloc[:1]\n",
    "\n",
    "sheet = from_array(df.to_numpy())\n",
    "\n",
    "print(sheet)\n",
    "\n",
    "sheet1 = ipysheet.sheet()\n",
    "cell0 = ipysheet.cell(0, 0, 0, numeric_format='0.0', type='numeric')\n",
    "cell1 = ipysheet.cell(1, 0, \"Hello\", type='text')\n",
    "cell2 = ipysheet.cell(0, 1, 0.1, numeric_format='0.000', type='numeric')\n",
    "cell3 = ipysheet.cell(1, 1, 15.9, numeric_format='0.00', type='numeric')\n",
    "cell4 = ipysheet.cell(2, 2, \"14-02-2019\", date_format='DD-MM-YYYY', type='date')\n",
    "\n",
    "sheet1\n",
    "\n",
    "\n",
    "marker = Marker(location=center, draggable=True)\n",
    "marker.popup = sheet\n",
    "m.add_layer(marker)\n",
    "\n",
    "\n",
    "# Now that the marker is on the Map, you can drag it with your mouse,\n",
    "# it will automatically update the `marker.location` attribute in Python\n",
    "\n",
    "# You can also update the marker location from Python, that will update the\n",
    "# marker location on the Map:\n",
    "marker.location = center\n",
    "\n",
    "m"
   ]
  },
  {
   "cell_type": "code",
   "execution_count": null,
   "metadata": {},
   "outputs": [],
   "source": []
  }
 ],
 "metadata": {
  "interpreter": {
   "hash": "3cc3d9d1efbda5f185ddd71a096e0deab175a8543e9f5cef7822ac3582ece48a"
  },
  "kernelspec": {
   "display_name": "Python 3.10.2 64-bit",
   "language": "python",
   "name": "python3"
  },
  "language_info": {
   "codemirror_mode": {
    "name": "ipython",
    "version": 3
   },
   "file_extension": ".py",
   "mimetype": "text/x-python",
   "name": "python",
   "nbconvert_exporter": "python",
   "pygments_lexer": "ipython3",
   "version": "3.10.2"
  },
  "orig_nbformat": 4
 },
 "nbformat": 4,
 "nbformat_minor": 2
}
