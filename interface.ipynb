{
 "cells": [
  {
   "cell_type": "code",
   "execution_count": 35,
   "metadata": {},
   "outputs": [],
   "source": [
    "from ipywidgets import HTML\n",
    "import ipysheet\n",
    "from ipyleaflet import Map, Marker, Popup\n",
    "from credentials import uri\n",
    "import pymongo\n",
    "import pandas as pd   \n",
    "import ipywidgets as widgets"
   ]
  },
  {
   "cell_type": "code",
   "execution_count": 16,
   "metadata": {},
   "outputs": [],
   "source": [
    "def init_db():\n",
    "    client = pymongo.MongoClient(uri)\n",
    "    DB_NAME = \"test-db\"\n",
    "    db = client[DB_NAME]\n",
    "    return db"
   ]
  },
  {
   "cell_type": "code",
   "execution_count": 17,
   "metadata": {},
   "outputs": [],
   "source": [
    "def getData():\n",
    "    db = init_db()\n",
    "    collection = db.plugsurfing\n",
    "    data = collection.find({})\n",
    "    data = list(data)\n",
    "    df = pd.DataFrame(data)   \n",
    "    return df\n"
   ]
  },
  {
   "cell_type": "code",
   "execution_count": 48,
   "metadata": {},
   "outputs": [],
   "source": [
    "def display_data(map):\n",
    "    df = getData()\n",
    "    for index, row in df.iterrows():\n",
    "        marker = Marker(location=(row.latitude, row.longitude))\n",
    "        #marker.popup(ipysheet.from_dataframe(row.to_frame()))\n",
    "        map.add_layer(marker)\n",
    "    return map"
   ]
  },
  {
   "cell_type": "code",
   "execution_count": 53,
   "metadata": {},
   "outputs": [],
   "source": [
    "def createMap():\n",
    "    center = (51.34195, 14.22162)\n",
    "    m = Map(center=center, zoom=5, close_popup_on_click=True)\n",
    "    display_data(m)\n",
    "    return m\n"
   ]
  },
  {
   "cell_type": "code",
   "execution_count": 54,
   "metadata": {},
   "outputs": [
    {
     "data": {
      "application/vnd.jupyter.widget-view+json": {
       "model_id": "719b414e703548429555a9a629c19d39",
       "version_major": 2,
       "version_minor": 0
      },
      "text/plain": [
       "Map(center=[51.34195, 14.22162], controls=(ZoomControl(options=['position', 'zoom_in_text', 'zoom_in_title', '…"
      ]
     },
     "metadata": {},
     "output_type": "display_data"
    }
   ],
   "source": [
    "m = createMap()\n",
    "m"
   ]
  },
  {
   "cell_type": "code",
   "execution_count": null,
   "metadata": {},
   "outputs": [],
   "source": []
  }
 ],
 "metadata": {
  "interpreter": {
   "hash": "3cc3d9d1efbda5f185ddd71a096e0deab175a8543e9f5cef7822ac3582ece48a"
  },
  "kernelspec": {
   "display_name": "Python 3.10.2 64-bit",
   "language": "python",
   "name": "python3"
  },
  "language_info": {
   "codemirror_mode": {
    "name": "ipython",
    "version": 3
   },
   "file_extension": ".py",
   "mimetype": "text/x-python",
   "name": "python",
   "nbconvert_exporter": "python",
   "pygments_lexer": "ipython3",
   "version": "3.10.2"
  },
  "orig_nbformat": 4
 },
 "nbformat": 4,
 "nbformat_minor": 2
}
